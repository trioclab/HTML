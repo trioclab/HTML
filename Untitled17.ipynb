{
  "nbformat": 4,
  "nbformat_minor": 0,
  "metadata": {
    "colab": {
      "provenance": [],
      "authorship_tag": "ABX9TyPg0iCK0L4PDSdrjCxbGinC",
      "include_colab_link": true
    },
    "kernelspec": {
      "name": "python3",
      "display_name": "Python 3"
    },
    "language_info": {
      "name": "python"
    }
  },
  "cells": [
    {
      "cell_type": "markdown",
      "metadata": {
        "id": "view-in-github",
        "colab_type": "text"
      },
      "source": [
        "<a href=\"https://colab.research.google.com/github/trioclab/HTML/blob/main/Untitled17.ipynb\" target=\"_parent\"><img src=\"https://colab.research.google.com/assets/colab-badge.svg\" alt=\"Open In Colab\"/></a>"
      ]
    },
    {
      "cell_type": "markdown",
      "source": [
        "Python Notes\n"
      ],
      "metadata": {
        "id": "bMojTbqWaFm3"
      }
    },
    {
      "cell_type": "markdown",
      "source": [
        "Hello Python"
      ],
      "metadata": {
        "id": "z8d92gqRaNSL"
      }
    },
    {
      "cell_type": "code",
      "execution_count": 1,
      "metadata": {
        "colab": {
          "base_uri": "https://localhost:8080/"
        },
        "id": "O9CHBWP4aDN1",
        "outputId": "f1f823eb-5f74-4ac2-a14b-350404f49268"
      },
      "outputs": [
        {
          "output_type": "stream",
          "name": "stdout",
          "text": [
            "Hello Python World!\n"
          ]
        }
      ],
      "source": [
        "print('Hello Python World!')"
      ]
    },
    {
      "cell_type": "markdown",
      "source": [
        "Keywords of Python\n"
      ],
      "metadata": {
        "id": "7jvy0rTlakfQ"
      }
    },
    {
      "cell_type": "code",
      "source": [
        "import keyword\n",
        "print(keyword.kwlist)\n"
      ],
      "metadata": {
        "colab": {
          "base_uri": "https://localhost:8080/"
        },
        "id": "5FpPyNoBaquW",
        "outputId": "bde21857-3aaf-416c-8b7c-a225bc54a8a6"
      },
      "execution_count": 3,
      "outputs": [
        {
          "output_type": "stream",
          "name": "stdout",
          "text": [
            "['False', 'None', 'True', 'and', 'as', 'assert', 'async', 'await', 'break', 'class', 'continue', 'def', 'del', 'elif', 'else', 'except', 'finally', 'for', 'from', 'global', 'if', 'import', 'in', 'is', 'lambda', 'nonlocal', 'not', 'or', 'pass', 'raise', 'return', 'try', 'while', 'with', 'yield']\n"
          ]
        }
      ]
    },
    {
      "cell_type": "markdown",
      "source": [
        "Length of the keywords\n",
        "\n",
        "\n"
      ],
      "metadata": {
        "id": "H6-gmZJ3a-7j"
      }
    },
    {
      "cell_type": "code",
      "source": [
        "len(keyword.kwlist)"
      ],
      "metadata": {
        "colab": {
          "base_uri": "https://localhost:8080/"
        },
        "id": "QnU0ZO-WdsTY",
        "outputId": "b85c69df-44bf-422d-b688-ac69ed15121f"
      },
      "execution_count": 5,
      "outputs": [
        {
          "output_type": "execute_result",
          "data": {
            "text/plain": [
              "35"
            ]
          },
          "metadata": {},
          "execution_count": 5
        }
      ]
    },
    {
      "cell_type": "markdown",
      "source": [
        "Variables in Python :\n",
        "\n",
        "There are some rules for making these variables in Python\n",
        "1 : Variable can not start with a number\n",
        "2 : Variable cannot have any special mark ( ! , @ , $ )\n",
        "3 : Variable should be meaningful\n",
        "4 : Keywords can't be used as variables\n",
        "\n"
      ],
      "metadata": {
        "id": "aTwNtTkneEQK"
      }
    },
    {
      "cell_type": "code",
      "source": [
        "variable1 = 'sania kiran'\n",
        "print(variable1)\n",
        "var_1 = 'I like Cats'\n",
        "print(var_1)"
      ],
      "metadata": {
        "colab": {
          "base_uri": "https://localhost:8080/"
        },
        "id": "2olKyvvGeA_6",
        "outputId": "b92fba1c-6f52-4bb0-91fc-e7975697aacd"
      },
      "execution_count": 8,
      "outputs": [
        {
          "output_type": "stream",
          "name": "stdout",
          "text": [
            "sania kiran\n",
            "I like Cats\n"
          ]
        }
      ]
    },
    {
      "cell_type": "markdown",
      "source": [
        "**Comments In Python** (which can't read by computer)\n",
        "1 : **Single line comment**\n",
        "2 : **Multi line comment**\n"
      ],
      "metadata": {
        "id": "QS4olvrmgcI-"
      }
    },
    {
      "cell_type": "code",
      "source": [
        "# this is a single line comment\n",
        "''' This\n",
        " is a\n",
        " multiline\n",
        "comment\n",
        "'''\n",
        "\"\"\"\n",
        "This is also a\n",
        "multiline\n",
        "comment\n",
        "\"\"\""
      ],
      "metadata": {
        "colab": {
          "base_uri": "https://localhost:8080/",
          "height": 35
        },
        "id": "M_2AuyVjf9Z3",
        "outputId": "f16f2fbb-c6cb-4f74-b363-9c7d4bfd798c"
      },
      "execution_count": 10,
      "outputs": [
        {
          "output_type": "execute_result",
          "data": {
            "text/plain": [
              "' This\\n is a\\n multiline\\ncomment\\n'"
            ],
            "application/vnd.google.colaboratory.intrinsic+json": {
              "type": "string"
            }
          },
          "metadata": {},
          "execution_count": 10
        }
      ]
    },
    {
      "cell_type": "markdown",
      "source": [
        "**Operations in Python**"
      ],
      "metadata": {
        "id": "oHir0lHBhowQ"
      }
    },
    {
      "cell_type": "code",
      "source": [
        "addition = 2 + 6\n",
        "print(addition)"
      ],
      "metadata": {
        "colab": {
          "base_uri": "https://localhost:8080/"
        },
        "id": "Dpg84Cz6hwu-",
        "outputId": "0947784d-096a-4662-f9f7-d6c53d7c65ed"
      },
      "execution_count": 11,
      "outputs": [
        {
          "output_type": "stream",
          "name": "stdout",
          "text": [
            "8\n"
          ]
        }
      ]
    },
    {
      "cell_type": "code",
      "source": [
        "x = int(input('Enter first number = '))\n",
        "y = int(input('Enter second number = '))\n",
        "plus = x + y #addition operation\n",
        "minus = x - y #substraction\n",
        "divide = x / y # division\n",
        "multiply = x * y # multiplication\n",
        "print(plus)\n",
        "print(minus)\n",
        "print(divide)\n",
        "print(multiply)\n"
      ],
      "metadata": {
        "colab": {
          "base_uri": "https://localhost:8080/"
        },
        "id": "Ah22vnnvh6Bx",
        "outputId": "e46ebdd9-0b40-4185-c37a-76040fafd98a"
      },
      "execution_count": 14,
      "outputs": [
        {
          "output_type": "stream",
          "name": "stdout",
          "text": [
            "Enter first number = 2\n",
            "Enter second number = 4\n",
            "6\n",
            "-2\n",
            "0.5\n",
            "8\n"
          ]
        }
      ]
    },
    {
      "cell_type": "markdown",
      "source": [
        "set in Python"
      ],
      "metadata": {
        "id": "g0vAgOIpjZ2w"
      }
    },
    {
      "cell_type": "code",
      "source": [
        "a = {\n",
        "    'sania' ,\n",
        "    'maria' ,\n",
        "    'waniya'\n",
        "}\n",
        "print(type(a))\n",
        "print(a)\n",
        "#a.append('taniya') #set cannot be changed\n",
        "print(a)"
      ],
      "metadata": {
        "colab": {
          "base_uri": "https://localhost:8080/"
        },
        "id": "6C0Nw2a_jc72",
        "outputId": "073ef514-faee-407e-e3ab-c1d591ce8e31"
      },
      "execution_count": 23,
      "outputs": [
        {
          "output_type": "stream",
          "name": "stdout",
          "text": [
            "<class 'set'>\n",
            "{'maria', 'waniya', 'sania'}\n",
            "{'maria', 'waniya', 'sania'}\n"
          ]
        }
      ]
    },
    {
      "cell_type": "markdown",
      "source": [
        "list in Python"
      ],
      "metadata": {
        "id": "XbeCtXPyjw0E"
      }
    },
    {
      "cell_type": "code",
      "source": [
        "fruitlist = [\n",
        "    'apple',\n",
        "    'Mango',\n",
        "    'Dates',\n",
        "    'Banana'\n",
        "]\n",
        "print(fruitlist)\n",
        "fruitlist.append('Papaya') #append used for adding a new value in the list\n",
        "print(fruitlist)"
      ],
      "metadata": {
        "colab": {
          "base_uri": "https://localhost:8080/"
        },
        "id": "rPAa0jgqjwax",
        "outputId": "9cc52381-d2ed-4bca-ba7a-72d14d45c89b"
      },
      "execution_count": 19,
      "outputs": [
        {
          "output_type": "stream",
          "name": "stdout",
          "text": [
            "['apple', 'Mango', 'Dates', 'Banana']\n",
            "['apple', 'Mango', 'Dates', 'Banana', 'Papaya']\n"
          ]
        }
      ]
    },
    {
      "cell_type": "markdown",
      "source": [
        "Tuple in Python"
      ],
      "metadata": {
        "id": "aXMb-UI2kmUn"
      }
    },
    {
      "cell_type": "code",
      "source": [
        "students = ('Ali' , 'Ahmad' , 'Raza' , 'Haider')\n",
        "# type is used for finding the type of the code\n",
        "print(type(students))\n",
        "print(students)\n",
        "#students.append('sania') # Tuple cannot be changed\n",
        "print(students)"
      ],
      "metadata": {
        "colab": {
          "base_uri": "https://localhost:8080/"
        },
        "id": "VjEDNAzVkpj2",
        "outputId": "49451737-beef-41ea-cb28-1803d753f400"
      },
      "execution_count": 24,
      "outputs": [
        {
          "output_type": "stream",
          "name": "stdout",
          "text": [
            "<class 'tuple'>\n",
            "('Ali', 'Ahmad', 'Raza', 'Haider')\n",
            "('Ali', 'Ahmad', 'Raza', 'Haider')\n"
          ]
        }
      ]
    },
    {
      "cell_type": "markdown",
      "source": [
        "Indentation\n",
        "1 : If statement"
      ],
      "metadata": {
        "id": "W1nCyPzAl_sv"
      }
    },
    {
      "cell_type": "code",
      "source": [
        "number = int(input('Enter your age = '))\n",
        "if number >= 18:\n",
        " print ('You are adult') # correct indentation\n",
        "else:\n",
        " print('You are still young') # correct indentation"
      ],
      "metadata": {
        "colab": {
          "base_uri": "https://localhost:8080/"
        },
        "id": "N7O5JdHDmGN0",
        "outputId": "c1b3457d-2fb1-4568-a728-e00fc165d2e8"
      },
      "execution_count": 27,
      "outputs": [
        {
          "output_type": "stream",
          "name": "stdout",
          "text": [
            "Enter your age = 14\n",
            "You are still young\n"
          ]
        }
      ]
    },
    {
      "cell_type": "markdown",
      "source": [
        "# **LOOP**\n",
        "*for loop in Python*"
      ],
      "metadata": {
        "id": "c2cTmvLIm3F8"
      }
    },
    {
      "cell_type": "code",
      "source": [
        "for i in range(0,5):\n",
        " print(i)"
      ],
      "metadata": {
        "colab": {
          "base_uri": "https://localhost:8080/"
        },
        "id": "lQeJUfj4myTO",
        "outputId": "acedee52-abca-4113-bd7a-4dd82a6ab670"
      },
      "execution_count": 28,
      "outputs": [
        {
          "output_type": "stream",
          "name": "stdout",
          "text": [
            "0\n",
            "1\n",
            "2\n",
            "3\n",
            "4\n"
          ]
        }
      ]
    },
    {
      "cell_type": "code",
      "source": [
        "j=20\n",
        "for i in range(0,5):\n",
        " print(i) # inside the for loop\n",
        "print(j) # outside the for loop"
      ],
      "metadata": {
        "colab": {
          "base_uri": "https://localhost:8080/"
        },
        "id": "LqHwzUJen_Hf",
        "outputId": "26ea6610-7b46-4d92-fb5f-fa7df09aad19"
      },
      "execution_count": 29,
      "outputs": [
        {
          "output_type": "stream",
          "name": "stdout",
          "text": [
            "0\n",
            "1\n",
            "2\n",
            "3\n",
            "4\n",
            "20\n"
          ]
        }
      ]
    },
    {
      "cell_type": "code",
      "source": [
        "number = int(input('Enter a nummber for writing its table = '))\n",
        "if number <= 12:\n",
        "  for i in range(1 , 11):\n",
        "    print(number , 'x',i , '=' , number * i )\n",
        "else:\n",
        "  print('not table available')"
      ],
      "metadata": {
        "colab": {
          "base_uri": "https://localhost:8080/"
        },
        "id": "vPwui77RoM5j",
        "outputId": "eba32b40-0970-4dda-a28c-de7cd32e7ae0"
      },
      "execution_count": 37,
      "outputs": [
        {
          "output_type": "stream",
          "name": "stdout",
          "text": [
            "Enter a nummber for writing its table = 5\n",
            "5 x 1 = 5\n",
            "5 x 2 = 10\n",
            "5 x 3 = 15\n",
            "5 x 4 = 20\n",
            "5 x 5 = 25\n",
            "5 x 6 = 30\n",
            "5 x 7 = 35\n",
            "5 x 8 = 40\n",
            "5 x 9 = 45\n",
            "5 x 10 = 50\n"
          ]
        }
      ]
    }
  ]
}